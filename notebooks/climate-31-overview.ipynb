{
  "cells": [
    {
      "cell_type": "markdown",
      "id": "d8ed7651-2c47-4899-abed-1f5daae2639a",
      "metadata": {},
      "source": [
        "# Climate Coding Challenge\n",
        "\n",
        "Climate change is impacting the way people live around the world\n",
        "\n",
        "# Part 1: Overview\n",
        "\n",
        "Higher highs, lower lows, storms, and smoke – we’re all feeling the\n",
        "effects of climate change. In this workflow, you will take a look at\n",
        "trends in temperature over time in Karachi, Pakistan.\n",
        "\n",
        "<link rel=\"stylesheet\" type=\"text/css\" href=\"./assets/styles.css\"><div class=\"callout callout-style-default callout-titled callout-discuss\"><div class=\"callout-header\"><div class=\"callout-icon-container\"><i class=\"callout-icon\"></i></div><div class=\"callout-title-container flex-fill\">Conversation Starter</div></div><div class=\"callout-body-container callout-body\"><p>In a few sentences, how is climate change affecting your home?</p></div></div>\n",
        "\n",
        "# YOUR ANSWER HERE\n",
        "It's really hot in Seattle during the summer now, and a lot of places \n",
        "don't have air conditioning!\n",
        "\n",
        "## What the fork?! Who wrote this?\n",
        "\n",
        "Below is a scientific Python workflow. But something’s wrong – The code\n",
        "won’t run! Your task is to follow the instructions below to **clean and\n",
        "debug** the Python code below so that it runs.\n",
        "\n",
        "> **Tip**\n",
        ">\n",
        "> Don’t worry if you can’t solve every bug right away. We’ll get there!\n",
        "> If you are working on one bug for more than about 10 minutes, it’s\n",
        "> time to ask for help.\n",
        "\n",
        "At the end, you’ll **repeat the workflow** for a location and\n",
        "measurement of your choosing.\n",
        "\n",
        "Alright! Let’s clean up this code.\n",
        "\n",
        "# STEP -1: Wrap up\n",
        "\n",
        "Don’t forget to store your variables so you can use them in other\n",
        "notebooks! Replace `var1` and `var2` with the variable you want to save,\n",
        "separated by spaces."
      ]
    },
    {
      "cell_type": "code",
      "execution_count": 1,
      "id": "cb903f40",
      "metadata": {},
      "outputs": [],
      "source": [
        "%store var1 var2"
      ]
    },
    {
      "cell_type": "markdown",
      "id": "2359f176-8ed5-4088-a4fb-6c6bc786197a",
      "metadata": {},
      "source": [
        "Finally, be sure to `Restart` and `Run all` to make sure your notebook\n",
        "works all the way through!"
      ]
    }
  ],
  "metadata": {
    "kernelspec": {
      "display_name": "Learning Portal",
      "language": "python",
      "name": "learning-portal"
    },
    "language_info": {
      "codemirror_mode": {
        "name": "ipython",
        "version": "3"
      },
      "file_extension": ".py",
      "mimetype": "text/x-python",
      "name": "python",
      "nbconvert_exporter": "python",
      "pygments_lexer": "ipython3",
      "version": "3.11.13"
    }
  },
  "nbformat": 4,
  "nbformat_minor": 5
}
